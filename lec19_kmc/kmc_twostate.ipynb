{
 "cells": [
  {
   "cell_type": "code",
   "execution_count": 1,
   "metadata": {},
   "outputs": [],
   "source": [
    "import numpy as np\n",
    "import seaborn as sns\n",
    "import matplotlib.pyplot as plt\n"
   ]
  },
  {
   "cell_type": "markdown",
   "metadata": {},
   "source": [
    "State 0 will be the reactant, and state 1 will be the product.\n"
   ]
  },
  {
   "cell_type": "code",
   "execution_count": 23,
   "metadata": {},
   "outputs": [],
   "source": [
    "b01 = .4 #barrier to go from 0->1, in eV\n",
    "b10 = 1.0\n",
    "beta = 1/.25 # in ev^-1\n",
    "r01 = np.exp(-b01*beta)\n",
    "r10 = np.exp(-b10*beta)"
   ]
  },
  {
   "cell_type": "code",
   "execution_count": 25,
   "metadata": {},
   "outputs": [
    {
     "name": "stdout",
     "output_type": "stream",
     "text": [
      "selected t 11.447239522207466\n",
      "selected t 15.255137545351275\n",
      "selected t 3.95459865561893\n",
      "selected t 109.35428363936985\n",
      "selected t 0.6638914372042096\n",
      "selected t 58.29852883906714\n",
      "selected t 24.090447441367637\n",
      "selected t 67.04676144264329\n",
      "selected t 3.59148287374193\n",
      "selected t 70.20052698262069\n"
     ]
    }
   ],
   "source": [
    "times = [0.0]\n",
    "states = [0]\n",
    "nstep = 10\n",
    "for i in range(0,nstep):\n",
    "    if states[i] == 0:\n",
    "        rate = r01\n",
    "        states.append(1)\n",
    "    else:\n",
    "        rate = r10\n",
    "        states.append(0)\n",
    "    t = -np.log(np.random.random())/rate\n",
    "    print(\"selected t\", t)\n",
    "    times.append(times[i]+t)\n",
    "    "
   ]
  },
  {
   "cell_type": "code",
   "execution_count": 29,
   "metadata": {},
   "outputs": [
    {
     "data": {
      "text/plain": [
       "Text(0, 0.5, 'state')"
      ]
     },
     "execution_count": 29,
     "metadata": {},
     "output_type": "execute_result"
    },
    {
     "data": {
      "image/png": "[encoded data removed]",
      "text/plain": [
       "<Figure size 432x288 with 1 Axes>"
      ]
     },
     "metadata": {
      "needs_background": "light"
     },
     "output_type": "display_data"
    }
   ],
   "source": [
    "\n",
    "plt.step(times, states, where='post')\n",
    "plt.xlabel(\"time\")\n",
    "plt.ylabel(\"state\")"
   ]
  },
  {
   "cell_type": "code",
   "execution_count": null,
   "metadata": {},
   "outputs": [],
   "source": []
  }
 ],
 "metadata": {
  "kernelspec": {
   "display_name": "Python 3.9.12 64-bit ('rosetta3.9')",
   "language": "python",
   "name": "python3"
  },
  "language_info": {
   "codemirror_mode": {
    "name": "ipython",
    "version": 3
   },
   "file_extension": ".py",
   "mimetype": "text/x-python",
   "name": "python",
   "nbconvert_exporter": "python",
   "pygments_lexer": "ipython3",
   "version": "3.9.12"
  },
  "orig_nbformat": 4,
  "vscode": {
   "interpreter": {
    "hash": "8846c4f732d2d6b6d2145089b5f8b1821cfe61c54d55006fc82e491edd70b011"
   }
  }
 },
 "nbformat": 4,
 "nbformat_minor": 2
}
