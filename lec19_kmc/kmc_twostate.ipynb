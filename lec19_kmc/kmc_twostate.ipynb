{
 "cells": [
  {
   "cell_type": "code",
   "execution_count": 1,
   "metadata": {},
   "outputs": [],
   "source": [
    "import numpy as np\n",
    "import seaborn as sns\n",
    "import matplotlib.pyplot as plt\n"
   ]
  },
  {
   "cell_type": "markdown",
   "metadata": {},
   "source": [
    "State 0 will be the reactant, and state 1 will be the product.\n"
   ]
  },
  {
   "cell_type": "code",
   "execution_count": 16,
   "metadata": {},
   "outputs": [],
   "source": [
    "b01 = .4 #barrier to go from 0->1, in eV\n",
    "b10 = 1.0\n",
    "beta = 1/.025 # in ev^-1\n"
   ]
  },
  {
   "cell_type": "code",
   "execution_count": 17,
   "metadata": {},
   "outputs": [
    {
     "name": "stdout",
     "output_type": "stream",
     "text": [
      "selected t 5.623778231690562\n",
      "selected t 0.0025596664252409357\n",
      "selected t 2.7287445876803944\n",
      "selected t 1.0178428607402963\n",
      "selected t 0.23540190795455945\n",
      "selected t 0.041535695734368036\n",
      "selected t 0.9683042450840418\n",
      "selected t 0.7184015702290085\n",
      "selected t 1.377019521541994\n",
      "selected t 0.4295914710854641\n",
      "selected t 1.2650264091880874\n",
      "selected t 0.9590949129291326\n",
      "selected t 2.982735711199101\n",
      "selected t 1.914122616964656\n",
      "selected t 3.851423478119312\n",
      "selected t 0.9740180313846561\n",
      "selected t 1.8631137744541406\n",
      "selected t 1.78133987874375\n",
      "selected t 0.31610396841830396\n",
      "selected t 2.3618717583938516\n",
      "selected t 3.3423444504704505\n",
      "selected t 0.1497499895867149\n",
      "selected t 0.1947301469396572\n",
      "selected t 0.9993235663622929\n",
      "selected t 2.8007628650547947\n",
      "selected t 0.19761549528032313\n",
      "selected t 2.1234391809849926\n",
      "selected t 1.6329700973420274\n",
      "selected t 2.3067228478272144\n",
      "selected t 0.12569887430305215\n",
      "selected t 2.1901908662222347\n",
      "selected t 1.084259565146165\n",
      "selected t 1.6408689564326506\n",
      "selected t 0.7995156087555435\n",
      "selected t 4.349329148902676\n",
      "selected t 0.3729441646667279\n",
      "selected t 1.11676778641038\n",
      "selected t 0.8814134658095947\n",
      "selected t 1.1848712706509852\n",
      "selected t 0.548708245471976\n",
      "selected t 7.782266486164034\n",
      "selected t 0.1670134380095057\n",
      "selected t 2.1443131150730825\n",
      "selected t 0.1945090101381612\n",
      "selected t 8.3469548214486\n",
      "selected t 0.9009056784193509\n",
      "selected t 0.7247753372296517\n",
      "selected t 0.3267604535285001\n",
      "selected t 0.4603913458434139\n",
      "selected t 1.9471055672134012\n",
      "selected t 2.8551304704712965\n",
      "selected t 0.24758953120550464\n",
      "selected t 5.015450058740723\n",
      "selected t 0.8895386409076739\n",
      "selected t 4.871474396041906\n",
      "selected t 0.7123007947733396\n",
      "selected t 0.07100801976356083\n",
      "selected t 1.5174600590996454\n",
      "selected t 2.077310336250061\n",
      "selected t 0.07096477030859727\n",
      "selected t 0.4938876766783079\n",
      "selected t 0.41070957545145886\n",
      "selected t 4.23807839499115\n",
      "selected t 2.543884430082692\n",
      "selected t 7.11551238999641\n",
      "selected t 0.011748695023962884\n",
      "selected t 10.711540439545141\n",
      "selected t 0.0674816247244377\n",
      "selected t 7.854082081040544\n",
      "selected t 1.518620612746183\n",
      "selected t 0.7807409250734946\n",
      "selected t 1.1305709480398969\n",
      "selected t 0.9263291007265196\n",
      "selected t 0.9272969699718487\n",
      "selected t 0.698015013390049\n",
      "selected t 0.4729520889859189\n",
      "selected t 1.4643333637338596\n",
      "selected t 1.4703449816687229\n",
      "selected t 3.784838567022634\n",
      "selected t 0.3354892223319495\n",
      "selected t 0.7780336578402034\n",
      "selected t 0.8299679801360361\n",
      "selected t 1.292641724142763\n",
      "selected t 0.619456735009361\n",
      "selected t 2.1390047519773905\n",
      "selected t 0.4071996051367825\n",
      "selected t 0.9875217330950482\n",
      "selected t 0.2472937329528339\n",
      "selected t 0.10519596940099667\n",
      "selected t 0.43634183217415073\n",
      "selected t 1.6337938709838091\n",
      "selected t 1.1254827162539074\n",
      "selected t 1.5163341985835948\n",
      "selected t 0.1062163735848397\n",
      "selected t 0.7472617761912766\n",
      "selected t 0.6497172207435986\n",
      "selected t 1.4479977368213648\n",
      "selected t 1.221162400433713\n",
      "selected t 3.315979315064661\n",
      "selected t 2.2905689435706784\n"
     ]
    }
   ],
   "source": [
    "times = [0.0]\n",
    "states = [0]\n",
    "nstep = 100\n",
    "for i in range(0,nstep):\n",
    "    if states[i] == 0:\n",
    "        rate = b01\n",
    "        states.append(1)\n",
    "        states.append(0)\n",
    "    else:\n",
    "        rate = b10\n",
    "    t = -np.log(np.random.random())/rate\n",
    "    print(\"selected t\", t)\n",
    "    times.append(times[i]+t)\n",
    "    "
   ]
  },
  {
   "cell_type": "code",
   "execution_count": 18,
   "metadata": {},
   "outputs": [
    {
     "data": {
      "text/plain": [
       "Text(0, 0.5, 'state')"
      ]
     },
     "execution_count": 18,
     "metadata": {},
     "output_type": "execute_result"
    },
    {
     "data": {
      "image/png": "[encoded data removed]",
      "text/plain": [
       "<Figure size 432x288 with 1 Axes>"
      ]
     },
     "metadata": {
      "needs_background": "light"
     },
     "output_type": "display_data"
    }
   ],
   "source": [
    "plt.step(times, states)\n",
    "plt.xlabel(\"time\")\n",
    "plt.ylabel(\"state\")"
   ]
  },
  {
   "cell_type": "code",
   "execution_count": null,
   "metadata": {},
   "outputs": [],
   "source": []
  }
 ],
 "metadata": {
  "kernelspec": {
   "display_name": "Python 3.9.12 64-bit ('rosetta3.9')",
   "language": "python",
   "name": "python3"
  },
  "language_info": {
   "codemirror_mode": {
    "name": "ipython",
    "version": 3
   },
   "file_extension": ".py",
   "mimetype": "text/x-python",
   "name": "python",
   "nbconvert_exporter": "python",
   "pygments_lexer": "ipython3",
   "version": "3.9.12"
  },
  "orig_nbformat": 4,
  "vscode": {
   "interpreter": {
    "hash": "8846c4f732d2d6b6d2145089b5f8b1821cfe61c54d55006fc82e491edd70b011"
   }
  }
 },
 "nbformat": 4,
 "nbformat_minor": 2
}
